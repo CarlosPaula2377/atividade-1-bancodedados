{
    "metadata": {
        "kernelspec": {
            "name": "SQL",
            "display_name": "SQL",
            "language": "sql"
        },
        "language_info": {
            "name": "sql",
            "version": ""
        }
    },
    "nbformat_minor": 2,
    "nbformat": 4,
    "cells": [
        {
            "cell_type": "markdown",
            "source": [
                "Criar banco de dados Seguradora"
            ],
            "metadata": {
                "azdata_cell_guid": "0f98b192-79cf-40a6-86ed-8929fbe78694"
            }
        },
        {
            "cell_type": "code",
            "source": [
                "CREATE DATABASE seguradora;"
            ],
            "metadata": {
                "azdata_cell_guid": "323c3732-6bda-4b0d-87ba-2f51353ffe80"
            },
            "outputs": [
                {
                    "output_type": "display_data",
                    "data": {
                        "text/html": "Commands completed successfully."
                    },
                    "metadata": {}
                },
                {
                    "output_type": "display_data",
                    "data": {
                        "text/html": "Total execution time: 00:00:00.234"
                    },
                    "metadata": {}
                }
            ],
            "execution_count": 2
        },
        {
            "cell_type": "markdown",
            "source": [
                "Utilizar base de dados"
            ],
            "metadata": {
                "azdata_cell_guid": "58df1061-e9c6-48f1-a792-3dfabc381fb6"
            }
        },
        {
            "cell_type": "code",
            "source": [
                "USE seguradora;"
            ],
            "metadata": {
                "azdata_cell_guid": "978cdecc-8d44-4757-be54-7e3887c75b07"
            },
            "outputs": [
                {
                    "output_type": "display_data",
                    "data": {
                        "text/html": "Commands completed successfully."
                    },
                    "metadata": {}
                },
                {
                    "output_type": "display_data",
                    "data": {
                        "text/html": "Total execution time: 00:00:00.060"
                    },
                    "metadata": {}
                }
            ],
            "execution_count": 3
        },
        {
            "cell_type": "markdown",
            "source": [
                "Criando a tabela Cliente"
            ],
            "metadata": {
                "azdata_cell_guid": "e2da194b-0d39-4b93-8ee9-af11423896a5"
            }
        },
        {
            "cell_type": "code",
            "source": [
                "CREATE TABLE CLIENTE ( \r\n",
                "    CodCliente INT,\r\n",
                "    Nome VARCHAR (45) NOT NULL,\r\n",
                "    CPF VARCHAR (45) NOT NULL,\r\n",
                "    Sexo VARCHAR(45),\r\n",
                "    Estado VARCHAR (45) ,\r\n",
                "    Cidade VARCHAR(45) DEFAULT 'Itapira',\r\n",
                "    Bairro VARCHAR(45),\r\n",
                "    Numero VARCHAR(45),\r\n",
                "    Rua VARCHAR(45),\r\n",
                "    TelefoneFixo VARCHAR(45),\r\n",
                "    TelefoneCelular VARCHAR(45) NOT NULL,\r\n",
                "    PRIMARY KEY (CodCliente),\r\n",
                "\r\n",
                ")"
            ],
            "metadata": {
                "azdata_cell_guid": "8c18bea3-10c2-4e93-af5a-196e3f2345cd",
                "tags": []
            },
            "outputs": [
                {
                    "output_type": "display_data",
                    "data": {
                        "text/html": "Commands completed successfully."
                    },
                    "metadata": {}
                },
                {
                    "output_type": "display_data",
                    "data": {
                        "text/html": "Total execution time: 00:00:00.013"
                    },
                    "metadata": {}
                }
            ],
            "execution_count": 4
        },
        {
            "cell_type": "markdown",
            "source": [
                "Criando a tabela Carro"
            ],
            "metadata": {
                "azdata_cell_guid": "0003ef91-0d91-4ebd-a087-a72d219db49b"
            }
        },
        {
            "cell_type": "code",
            "source": [
                "CREATE TABLE CARRO (\r\n",
                "    CodCarro INT,\r\n",
                "    Placa VARCHAR (45),\r\n",
                "    Marca VARCHAR (45),\r\n",
                "    Modelo VARCHAR (45),\r\n",
                "    Ano VARCHAR (45),\r\n",
                "    Chassi VARCHAR (45),\r\n",
                "    Cor VARCHAR (45),\r\n",
                "    PRIMARY KEY (CodCarro),\r\n",
                ")"
            ],
            "metadata": {
                "azdata_cell_guid": "66891ffc-13b5-4814-8ca6-c5563df650cf",
                "tags": []
            },
            "outputs": [
                {
                    "output_type": "display_data",
                    "data": {
                        "text/html": "Commands completed successfully."
                    },
                    "metadata": {}
                },
                {
                    "output_type": "display_data",
                    "data": {
                        "text/html": "Total execution time: 00:00:00.003"
                    },
                    "metadata": {}
                }
            ],
            "execution_count": 5
        },
        {
            "cell_type": "markdown",
            "source": [
                "Criando a tabela Sinistro"
            ],
            "metadata": {
                "azdata_cell_guid": "5f871b03-c2cd-49e7-9256-376e1c297cba"
            }
        },
        {
            "cell_type": "code",
            "source": [
                "CREATE TABLE SINISTRO (\r\n",
                "    CodSinistro INT,\r\n",
                "    HoraSinistro INT,\r\n",
                "    DataSinistro DATE,\r\n",
                "    LocalSinistro VARCHAR (45),\r\n",
                "    Condutor VARCHAR (45),\r\n",
                "    Carro_CodCarro INT ,\r\n",
                "    PRIMARY KEY (CodSinistro,Carro_CodCarro),\r\n",
                "    FOREIGN KEY (Carro_CodCarro) REFERENCES CARRO (CodCarro)\r\n",
                ")"
            ],
            "metadata": {
                "azdata_cell_guid": "474f7cd8-459c-48e3-af20-1b7c7fabdb29"
            },
            "outputs": [
                {
                    "output_type": "display_data",
                    "data": {
                        "text/html": "Commands completed successfully."
                    },
                    "metadata": {}
                },
                {
                    "output_type": "display_data",
                    "data": {
                        "text/html": "Total execution time: 00:00:00.011"
                    },
                    "metadata": {}
                }
            ],
            "execution_count": 9
        },
        {
            "cell_type": "markdown",
            "source": [
                "Criando a Tabela Apolice"
            ],
            "metadata": {
                "azdata_cell_guid": "b738d135-722f-4ed2-aa9d-d786d47a1296"
            }
        },
        {
            "cell_type": "code",
            "source": [
                "CREATE TABLE APOLICE (\r\n",
                "    CodApolice INT,\r\n",
                "    ValorCobertura DECIMAL NOT NULL,\r\n",
                "    ValorFranquia DECIMAL NOT NULL,\r\n",
                "    DataInicioVigencia DATE NOT NULL,\r\n",
                "    DataFimVigencia DATE NOT NULL,\r\n",
                "    Cliente_CodCliente INT NOT NULL,\r\n",
                "    Carro_CodCarro INT NOT NULL,\r\n",
                "    PRIMARY KEY (CodApolice),\r\n",
                "    FOREIGN KEY (Cliente_CodCliente) REFERENCES CLIENTE (CodCliente),\r\n",
                "    FOREIGN KEY (Carro_CodCarro) REFERENCES CARRO (CodCarro)\r\n",
                "\r\n",
                "\r\n",
                ")"
            ],
            "metadata": {
                "azdata_cell_guid": "7f0105c7-3105-42df-9127-6a7db125fa75"
            },
            "outputs": [
                {
                    "output_type": "display_data",
                    "data": {
                        "text/html": "Commands completed successfully."
                    },
                    "metadata": {}
                },
                {
                    "output_type": "display_data",
                    "data": {
                        "text/html": "Total execution time: 00:00:00.011"
                    },
                    "metadata": {}
                }
            ],
            "execution_count": 12
        }
    ]
}